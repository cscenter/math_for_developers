{
 "cells": [
  {
   "cell_type": "markdown",
   "metadata": {
    "slideshow": {
     "slide_type": "slide"
    }
   },
   "source": [
    "# Computer science center\n",
    "## Математика для разработчиков\n",
    "Семинар 4. Линейная алгебра"
   ]
  },
  {
   "cell_type": "markdown",
   "metadata": {
    "slideshow": {
     "slide_type": "slide"
    }
   },
   "source": [
    "## Ранг матрицы"
   ]
  },
  {
   "cell_type": "code",
   "execution_count": 1,
   "metadata": {
    "slideshow": {
     "slide_type": "fragment"
    }
   },
   "outputs": [
    {
     "name": "stdout",
     "output_type": "stream",
     "text": [
      "rank = 3\n"
     ]
    }
   ],
   "source": [
    "import numpy as np\n",
    "from numpy.linalg import matrix_rank\n",
    "\n",
    "A = np.array([\n",
    "    [1,-1,0,0],\n",
    "    [1,0,-1,0],\n",
    "    [1,0,0,-1],\n",
    "    [0,1,-1,0],\n",
    "    [0,1,0,-1],\n",
    "    [0,0,1,-1]\n",
    "]) \n",
    "print(f'rank = {matrix_rank(A)}')"
   ]
  },
  {
   "cell_type": "markdown",
   "metadata": {
    "slideshow": {
     "slide_type": "slide"
    }
   },
   "source": [
    "## Система линейных алгебраических уравнений"
   ]
  },
  {
   "cell_type": "code",
   "execution_count": 2,
   "metadata": {
    "slideshow": {
     "slide_type": "fragment"
    }
   },
   "outputs": [
    {
     "name": "stdout",
     "output_type": "stream",
     "text": [
      "determinant = -7.0\n",
      "residual = 0.0\n"
     ]
    }
   ],
   "source": [
    "import scipy.linalg as sla\n",
    "\n",
    "A = np.array([\n",
    "    [1,1,1],\n",
    "    [1,2,2],\n",
    "    [2,3,-4]\n",
    "]) \n",
    "print(f'determinant = {sla.det(A)}')\n",
    "\n",
    "# solve a linear system\n",
    "x = np.array([1, 3, 2])\n",
    "b = A.dot(x).reshape(3, 1) # для linalg.solve из scipy\n",
    "x1 = sla.solve(A, b)\n",
    "print(f'residual = {sla.norm(x1.reshape(3) - x)}')"
   ]
  },
  {
   "cell_type": "markdown",
   "metadata": {
    "slideshow": {
     "slide_type": "slide"
    }
   },
   "source": [
    "## LU-разложение"
   ]
  },
  {
   "cell_type": "markdown",
   "metadata": {
    "slideshow": {
     "slide_type": "fragment"
    }
   },
   "source": [
    "С точки зрения математики матричные разложения являются точными: произведение сомножителей всегда равняется исходной матрице $A$. К сожалению, на практике этом часто мешает вычислительная погрешность. \n",
    "\n",
    "Для $LU$ разложения l2-норма ошибки ошибки $||\\delta A|| = ||A - LU||$ удовлетворяет следующей оценке:\n",
    "\n",
    "$$||\\delta A|| \\leqslant ||L|| \\cdot ||U|| \\cdot O(\\varepsilon_{machine})$$\n",
    "\n",
    "А нормы $L$ и $U$ могут быть совсем нехорошими."
   ]
  },
  {
   "cell_type": "markdown",
   "metadata": {
    "slideshow": {
     "slide_type": "subslide"
    }
   },
   "source": [
    "### LU-разложение с выбором главного элемента (по столбцу)\n",
    "\n",
    "Каждый раз ищем максимум в столбце и переставляем соответствующую строку наверх.\n",
    "\n",
    "$$\\begin{pmatrix}\n",
    "b_{11} & \\dots & b_{1i} & b_{1,i+1} & \\dots & b_{1n}\\\\\n",
    " & \\ddots & \\vdots & \\vdots & & \\vdots\\\\\n",
    " & & \\color{blue}{b_{ii}} & \\color{blue}{b_{i,i+1}} & \\dots & \\color{blue}{b_{in}} \\\\\n",
    " & & b_{i+1,i} & b_{i+1,i+1} & \\dots & b_{i+1,n}\\\\\n",
    " & & \\vdots & \\vdots &  & \\vdots \\\\\n",
    " & & \\color{green}{b_{ji}} & \\color{green}{b_{j,i+1}} & \\dots & \\color{green}{b_{jn}} \\\\\n",
    " & & \\vdots & \\vdots & & \\vdots\\\\\n",
    "\\end{pmatrix}\\longrightarrow\n",
    "\\begin{pmatrix}\n",
    "b_{11} & \\dots & b_{1i} & b_{1,i+1} & \\dots & b_{1n}\\\\\n",
    " & \\ddots & \\vdots & \\vdots & & \\vdots\\\\\n",
    " & & \\color{green}{b_{ji}} & \\color{green}{b_{j,i+1}} & \\dots & \\color{green}{b_{jn}} \\\\\n",
    " & & b_{i+1,i} & b_{i+1,i+1} & \\dots & b_{i+1,n}\\\\\n",
    " & & \\vdots & \\vdots &  & \\vdots \\\\\n",
    " & & \\color{blue}{b_{ii}} & \\color{blue}{b_{i,i+1}} & \\dots & \\color{blue}{b_{in}} \\\\\n",
    " & & \\vdots & \\vdots & & \\vdots\\\\\n",
    "\\end{pmatrix}\\longrightarrow$$\n",
    "$$\\longrightarrow\\begin{pmatrix}\n",
    "b_{11} & \\dots & b_{1i} & b_{1,i+1} & \\dots & b_{1n}\\\\\n",
    " & \\ddots & \\vdots & \\vdots & & \\vdots\\\\\n",
    " & & \\color{green}{b_{ji}} & \\color{green}{b_{j,i+1}} & \\dots & \\color{green}{b_{jn}} \\\\\n",
    " & & 0 & b'_{i+1,i+1} & \\dots & b'_{i+1,n}\\\\\n",
    " & & \\vdots & \\vdots &  & \\vdots \\\\\n",
    " & & 0 & b'_{i,i+1} & \\dots & b'_{in} \\\\\n",
    " & & \\vdots & \\vdots & & \\vdots\n",
    "\\end{pmatrix}$$\n"
   ]
  },
  {
   "cell_type": "markdown",
   "metadata": {
    "slideshow": {
     "slide_type": "subslide"
    }
   },
   "source": [
    "Надо сказать, что примерно так вы и решали системы на первом курсе университета! Именно наибольший, а не первый ненулевой элемент столбца берётся потому, что чем больше число $-$ тем меньшие погрешности потенциально вносит деление на него.\n",
    "\n",
    "Что при этом происходит? Перестановка строк матрицы равносильна умножению её слева на матрицу соответствующей перестановки. Таким образом, мы получаем равенство\n",
    "\n",
    "$$L_nP_nL_{n-1}P_{n-1}\\ldots L_2P_2L_1P_1 A = U\\qquad\\qquad(1)$$\n",
    "\n",
    "где $L_1,\\ldots,L_n$ - некоторые нижнетреугольные матрицы.\n",
    "\n",
    "**Вопрос:** Ну, и где здесь матрица $L$?!\n",
    "\n",
    "**Ответ:** Введём новые матрицы\n",
    "\n",
    "\\begin{align*}\n",
    "L'_n &= L_n\\\\\n",
    "L'_{n-1} &= P_nL_{n-1}P_{n}^{-1}\\\\\n",
    "L'_{n-2} &= P_nP_{n-1}L_{n-2}P_n^{-1}P_{n-1}^{-1}\\\\\n",
    "&\\ldots\\\\\n",
    "L'_1 &= P_nP_{n-1}\\ldots P_2L_1P_2^{-1}\\ldots P_{n-1}^{-1}P_n^{-1}\n",
    "\\end{align*}\n",
    "\n",
    "**Упражнение.** Матрицы $L'_i$ тоже нижнетреугольные!\n",
    "\n",
    "Тогда левая часть (1) перепишется в виде\n",
    "\n",
    "$$\\underbrace{L'_nL'_{n-1}\\ldots L'_1}_{:=L^{-1}}\\underbrace{P_nP_{n-1}\\ldots P_1}_{:=P^{-1}}\\cdot A$$\n",
    "\n",
    "**Итог:** разложение вида\n",
    "$$A = PLU$$\n",
    "где $P$ - матрица перестановки.\n"
   ]
  },
  {
   "cell_type": "markdown",
   "metadata": {
    "slideshow": {
     "slide_type": "subslide"
    }
   },
   "source": [
    "Функция `scipy.linalg.lu` в Питоне находит именно такое разложение!\n",
    "\n",
    "Все элементы $L$ не превосходят $1$, так что $||L||]\\leqslant 1$. При этом\n",
    "$$||\\Delta A|| \\leqslant ||A||\\cdot O(\\rho \\varepsilon_{machine}),$$\n",
    "где\n",
    "$$\\rho = \\frac{\\max_{i,j}|u_{ij}|}{\\max_{i,j}|a_{ij}|}$$\n",
    "Это число называется *фактором роста матрицы*.\n",
    "\n",
    "Но что, если это отношение велико?"
   ]
  },
  {
   "cell_type": "markdown",
   "metadata": {
    "slideshow": {
     "slide_type": "subslide"
    }
   },
   "source": [
    "**Задание 4.1.** Сгенерируйте матрицу $500\\times500$, имеющую вид\n",
    "\n",
    "$$\\begin{pmatrix}\n",
    "1 & 0 & 0 & \\cdots & 0 & 0 & 1\\\\\n",
    "-1 & 1 & 0 &  &  & 0 & 1\\\\\n",
    "-1 & -1 & 1 & 0  &  & 0 & 1\\\\\n",
    "\\vdots & & \\ddots & \\ddots  & \\ddots & \\vdots & \\vdots \\\\\n",
    "-1 & -1 & -1 & \\ddots & 1 & 0 & 1\\\\\n",
    "-1 & -1 & -1 &  & -1 & 1 & 1\\\\\n",
    "-1 & -1 & -1 & \\cdots & -1 & -1 & 1\n",
    "\\end{pmatrix}$$\n",
    "\n",
    "Например, вы можете сгенерировать сначала нулевую матрицу нужного размера, а потом заполнить её клетки правильными числами.\n",
    "\n",
    "Найдите её PLU-разложение и QR-разложение. Убедитесь, что $P = E$. Вычислите $||A - LU||_2$ и $||A - QR||_2$. Чему равен фактор роста матрицы $A$?"
   ]
  },
  {
   "cell_type": "code",
   "execution_count": 3,
   "metadata": {
    "slideshow": {
     "slide_type": "subslide"
    }
   },
   "outputs": [],
   "source": [
    "n = 500\n",
    "A = -np.tri(n, n, -1) + np.diag([1] * n)\n",
    "A[:, n-1] = [1] * n\n",
    "P, L, U = sla.lu(A)"
   ]
  },
  {
   "cell_type": "code",
   "execution_count": 4,
   "metadata": {
    "slideshow": {
     "slide_type": "fragment"
    }
   },
   "outputs": [
    {
     "data": {
      "text/plain": [
       "True"
      ]
     },
     "execution_count": 4,
     "metadata": {},
     "output_type": "execute_result"
    }
   ],
   "source": [
    "(P == np.identity(n)).all()"
   ]
  },
  {
   "cell_type": "code",
   "execution_count": 5,
   "metadata": {
    "slideshow": {
     "slide_type": "fragment"
    }
   },
   "outputs": [
    {
     "name": "stdout",
     "output_type": "stream",
     "text": [
      "LU_norm = 2.5329519520662918e+76\n",
      "QR_norm = 7.748592225286441e-13\n",
      "rho = 1.636695303948071e+150\n"
     ]
    }
   ],
   "source": [
    "LU_norm = sla.norm(A - L.dot(U), 2)\n",
    "print(f'LU_norm = {LU_norm}')\n",
    "\n",
    "Q, R = sla.qr(A)\n",
    "QR_norm = sla.norm(A - Q.dot(R), 2)\n",
    "print(f'QR_norm = {QR_norm}')\n",
    "\n",
    "U_abs = np.absolute(U)\n",
    "A_abs = np.absolute(A)\n",
    "rho = U_abs.max() / A_abs.max()\n",
    "print(f'rho = {rho}')"
   ]
  },
  {
   "cell_type": "markdown",
   "metadata": {
    "slideshow": {
     "slide_type": "slide"
    }
   },
   "source": [
    "**Задание 4.2.** \n",
    "Рассмотрим *матрицу Паскаля* $S_n = \\left(C_{i + j}^i\\right)$ ($i,j = 0,\\ldots,n-1$).\n",
    "\n",
    "Каково её LU-разложение? Выведите формулы для матриц L и U и приведите краткое обоснование. Каков её определитель?"
   ]
  },
  {
   "cell_type": "markdown",
   "metadata": {
    "slideshow": {
     "slide_type": "subslide"
    }
   },
   "source": [
    "По определению и свёртке Вандермонда: $S_{ij} = C_{i+j}^i = \\sum_{k=0}^{n-1}C_i^{i-k} C_j^k = \\sum_{k=0}^{n-1}C_i^{k} C_j^k$\n",
    "\n",
    "С другой стороны $S_{ij}$ можно рассмотреть как произведение двух матриц $L$ и $U$: $S_{ij} = \\sum_{k=0}^{n-1} L_{ik} U_{kj}$\n",
    "\n",
    "Тогда в качестве нижнетреугольной матрицы $L$ можем взять $C_i^j$, а в качестве верхнетреугольной $U$ взять $C_j^i$. Тогда $L$ и $U$ будут также треугольниками Паскаля (в привычной форме и перевернутый). \n",
    "\n",
    "Определитель треугольной матрицы равен произведению ее диагональных элементов. У матриц $L$ и $U$ на диагоналях всегда стоят единицы ($C_i^i$), поэтому и $det|S| = 1$."
   ]
  },
  {
   "cell_type": "markdown",
   "metadata": {
    "slideshow": {
     "slide_type": "slide"
    }
   },
   "source": [
    "**Задание 4.3.** Пример: вычисление логарифма плотности многомерного нормального распределения.\n",
    "\n",
    "Случайная величина $\\vec{x}\\in\\mathbb{R}^D$ имеет многомерное нормальное распределение, если её плотность может быть представлена как\n",
    "$$\n",
    "p(\\vec{x}) = \\mathcal{N}(\\vec{x}|\\vec{\\mu},\\Sigma) = \\frac{1}{\\sqrt{2\\pi}^D\\sqrt{\\det\\Sigma}}\\exp\\left(-\\frac{1}{2}(\\vec{x}-\\vec{\\mu})^T\\Sigma^{-1}(\\vec{x}-\\vec{\\mu})\\right)\n",
    "$$\n",
    "Здесь $\\vec{\\mu}\\in\\mathbb{R}^D -$ вектор мат. ожидания $\\vec{x}$, а $\\Sigma\\in\\mathbb{R}^{D{\\times}D} -$ матрица ковариации.\n",
    "\n",
    "С помощью матричных разложений реализуйте алгоритм вычисления логарифма нормальной плотности для набора векторов $X = \\{\\vec{x}_1,\\dots,\\vec{x}_N\\}$ для заданных $\\vec{\\mu}$ и $\\Sigma$."
   ]
  },
  {
   "cell_type": "markdown",
   "metadata": {
    "slideshow": {
     "slide_type": "subslide"
    }
   },
   "source": [
    "*Решение*\n",
    "\n",
    "При реализации будем использовать [разложение Холецкого](https://ru.wikipedia.org/wiki/%D0%A0%D0%B0%D0%B7%D0%BB%D0%BE%D0%B6%D0%B5%D0%BD%D0%B8%D0%B5_%D0%A5%D0%BE%D0%BB%D0%B5%D1%86%D0%BA%D0%BE%D0%B3%D0%BE) для упрощения выражения в степени экспоненты:\n",
    "$$-\\frac{1}{2}(x-m)^T \\Sigma^{-1}(x-m)$$\n",
    "Пусть $x - m = t$, произведем разложение Холецкого для $\\Sigma$\n",
    "$$\\Sigma = L L^T = U^T U$$\n",
    "Получаем:\n",
    "$$t^T (U^T U)^{-1} t = t^T U^{-1} U^{-T} t = || U^{-T} t ||_2^2$$\n",
    "Пусть $U^{-T} t = z$, решаем систему $U^T z = t$. Получаем, что $z^2$ $-$ выражение в степени экспоненты.\n",
    "\n",
    "Таким образом, мы свели вычисление выражения в степени экспоненты к решению системы линейных уравнений с помощью разложения Холецкого.\n",
    "\n",
    "В алгоритме используются дополнительные оптимизации для вычисления логарифма, базирующиеся на основных логарифмических тождествах."
   ]
  },
  {
   "cell_type": "code",
   "execution_count": 6,
   "metadata": {
    "slideshow": {
     "slide_type": "subslide"
    }
   },
   "outputs": [],
   "source": [
    "def cho_scipy_solve(A, b):\n",
    "    C_cho = sla.cho_factor(A)\n",
    "    return sla.cho_solve(C_cho, b)\n",
    "\n",
    "def my_multivariate_normal_logpdf(X, m, S):\n",
    "    '''\n",
    "    Ввод\n",
    "    -----\n",
    "    X: набор точек, numpy array размера N x D;\n",
    "    m: вектор средних значений, numpy array длины D;\n",
    "    S: ковариационная матрица, numpy array размера D x D.\n",
    "    \n",
    "    Вывод\n",
    "    ------\n",
    "    res: результат вычислений, numpy array длины N.\n",
    "    '''\n",
    "    (N, D) = X.shape\n",
    "    assert D == len(m), \"Error: X.shape[1] != len(m)\"\n",
    "    assert D == S.shape[0] and D == S.shape[1], \"Error: S has wrong shape\"    \n",
    "    \n",
    "    det_S = sla.det(S)\n",
    "    assert det_S > 0, \"Error: det(S) <= 0\"\n",
    "    norm_const = -D/2. * np.log(2.*np.pi) - 0.5 * np.log(det_S)\n",
    "    \n",
    "    zs = cho_scipy_solve(S, np.transpose(X - m))\n",
    "    res = 0.5 * (zs * zs).sum(axis=0) \n",
    "    return norm_const - res"
   ]
  },
  {
   "cell_type": "code",
   "execution_count": 7,
   "metadata": {
    "slideshow": {
     "slide_type": "subslide"
    }
   },
   "outputs": [],
   "source": [
    "# Let's test this!\n",
    "X_testing = np.random.multivariate_normal(np.zeros(6), np.eye(6), 5)\n",
    "assert my_multivariate_normal_logpdf(X_testing, np.zeros(6), np.eye(6)).shape == (5,)"
   ]
  },
  {
   "cell_type": "code",
   "execution_count": 8,
   "metadata": {
    "slideshow": {
     "slide_type": "fragment"
    }
   },
   "outputs": [
    {
     "data": {
      "text/plain": [
       "array([-2857.42620268, -2773.49899359, -2816.43477782, -2841.53151686,\n",
       "       -2826.18779111, -2832.33188073, -2779.771332  , -2819.2417518 ,\n",
       "       -2878.90238337, -2832.07866289, -2821.78412806, -2847.21254571,\n",
       "       -2865.84238586, -2830.03790911, -2837.04649361, -2811.61155762,\n",
       "       -2820.53865359, -2824.85942104, -2880.0473315 , -2871.58465451])"
      ]
     },
     "execution_count": 8,
     "metadata": {},
     "output_type": "execute_result"
    }
   ],
   "source": [
    "from scipy.stats import multivariate_normal\n",
    "D = 2000\n",
    "N = 20\n",
    "X_testing = np.random.multivariate_normal(np.zeros(D), np.eye(D), N)\n",
    "multivariate_normal.logpdf(X_testing, np.zeros(D), np.eye(D))"
   ]
  },
  {
   "cell_type": "code",
   "execution_count": 9,
   "metadata": {
    "slideshow": {
     "slide_type": "fragment"
    }
   },
   "outputs": [
    {
     "data": {
      "text/plain": [
       "array([-2857.42620268, -2773.49899359, -2816.43477782, -2841.53151686,\n",
       "       -2826.18779111, -2832.33188073, -2779.771332  , -2819.2417518 ,\n",
       "       -2878.90238337, -2832.07866289, -2821.78412806, -2847.21254571,\n",
       "       -2865.84238586, -2830.03790911, -2837.04649361, -2811.61155762,\n",
       "       -2820.53865359, -2824.85942104, -2880.0473315 , -2871.58465451])"
      ]
     },
     "execution_count": 9,
     "metadata": {},
     "output_type": "execute_result"
    }
   ],
   "source": [
    "my_multivariate_normal_logpdf(X_testing, np.zeros(D), np.eye(D))"
   ]
  },
  {
   "cell_type": "code",
   "execution_count": 10,
   "metadata": {
    "slideshow": {
     "slide_type": "subslide"
    }
   },
   "outputs": [
    {
     "name": "stderr",
     "output_type": "stream",
     "text": [
      "100%|██████████| 100/100 [03:06<00:00,  7.52s/it]\n"
     ]
    }
   ],
   "source": [
    "import pandas as pd\n",
    "import timeit\n",
    "from tqdm import tqdm\n",
    "\n",
    "multivariate_normal_results = pd.DataFrame(index=range(1, 1000, 10), columns=['resudial','lib_time','my_time'])\n",
    "N = 25\n",
    "for D in tqdm(range(1, 1000, 10)):\n",
    "    X_testing = np.random.multivariate_normal(np.zeros(D), np.eye(D), N)\n",
    "    \n",
    "    start_time = timeit.default_timer()\n",
    "    lib_res = multivariate_normal.logpdf(X_testing, np.zeros(D), np.eye(D))\n",
    "    lib_elapsed = timeit.default_timer() - start_time\n",
    "    \n",
    "    start_time = timeit.default_timer()\n",
    "    my_res = my_multivariate_normal_logpdf(X_testing, np.zeros(D), np.eye(D))\n",
    "    my_elapsed = timeit.default_timer() - start_time\n",
    "    \n",
    "    multivariate_normal_results.loc[D]['resudial'] = sla.norm(lib_res - my_res)\n",
    "    multivariate_normal_results.loc[D]['lib_time'] = lib_elapsed\n",
    "    multivariate_normal_results.loc[D]['my_time']  = my_elapsed"
   ]
  },
  {
   "cell_type": "code",
   "execution_count": 12,
   "metadata": {
    "slideshow": {
     "slide_type": "subslide"
    }
   },
   "outputs": [
    {
     "data": {
      "text/plain": [
       "Text(0.5, 0.98, 'Сравнение функций вычисления логарифма плотности МНР')"
      ]
     },
     "execution_count": 12,
     "metadata": {},
     "output_type": "execute_result"
    },
    {
     "data": {
      "text/plain": [
       "[<matplotlib.lines.Line2D at 0x2aab454e8208>]"
      ]
     },
     "execution_count": 12,
     "metadata": {},
     "output_type": "execute_result"
    },
    {
     "data": {
      "text/plain": [
       "[<matplotlib.lines.Line2D at 0x2aab454e8588>]"
      ]
     },
     "execution_count": 12,
     "metadata": {},
     "output_type": "execute_result"
    },
    {
     "data": {
      "text/plain": [
       "<matplotlib.legend.Legend at 0x2aab454e87b8>"
      ]
     },
     "execution_count": 12,
     "metadata": {},
     "output_type": "execute_result"
    },
    {
     "data": {
      "text/plain": [
       "Text(0.5, 1.0, 'Время работы с увеличением D')"
      ]
     },
     "execution_count": 12,
     "metadata": {},
     "output_type": "execute_result"
    },
    {
     "data": {
      "text/plain": [
       "Text(0.5, 0, 'D')"
      ]
     },
     "execution_count": 12,
     "metadata": {},
     "output_type": "execute_result"
    },
    {
     "data": {
      "text/plain": [
       "Text(0, 0.5, 'Время')"
      ]
     },
     "execution_count": 12,
     "metadata": {},
     "output_type": "execute_result"
    },
    {
     "data": {
      "text/plain": [
       "[<matplotlib.lines.Line2D at 0x2aab454a14e0>]"
      ]
     },
     "execution_count": 12,
     "metadata": {},
     "output_type": "execute_result"
    },
    {
     "data": {
      "text/plain": [
       "Text(0.5, 1.0, 'Норма разницы результатов моей функции и стандартной')"
      ]
     },
     "execution_count": 12,
     "metadata": {},
     "output_type": "execute_result"
    },
    {
     "data": {
      "text/plain": [
       "Text(0.5, 0, 'resudial')"
      ]
     },
     "execution_count": 12,
     "metadata": {},
     "output_type": "execute_result"
    },
    {
     "data": {
      "text/plain": [
       "Text(0, 0.5, 'Время')"
      ]
     },
     "execution_count": 12,
     "metadata": {},
     "output_type": "execute_result"
    },
    {
     "data": {
      "image/png": "[encoded data removed]",
      "text/plain": [
       "<Figure size 1440x360 with 2 Axes>"
      ]
     },
     "metadata": {
      "needs_background": "light"
     },
     "output_type": "display_data"
    }
   ],
   "source": [
    "from matplotlib import pyplot as plt\n",
    "%matplotlib inline\n",
    "\n",
    "f, ax = plt.subplots(1,2, figsize=(20,5))\n",
    "f.suptitle('Сравнение функций вычисления логарифма плотности МНР')\n",
    "\n",
    "ax[0].plot(multivariate_normal_results['my_time'], label='my time')\n",
    "ax[0].plot(multivariate_normal_results['lib_time'], label='lib time')\n",
    "ax[0].legend(loc=2)\n",
    "ax[0].set_title('Время работы с увеличением D')\n",
    "ax[0].set_xlabel('D')\n",
    "ax[0].set_ylabel('Время')\n",
    "\n",
    "ax[1].plot(multivariate_normal_results['resudial'])\n",
    "ax[1].set_title('Норма разницы результатов моей функции и стандартной')\n",
    "ax[1].set_xlabel('resudial')\n",
    "ax[1].set_ylabel('Время')"
   ]
  },
  {
   "cell_type": "markdown",
   "metadata": {
    "slideshow": {
     "slide_type": "fragment"
    }
   },
   "source": [
    "Спасибо за внимание, всё на сегодня и в целом по курсу :)"
   ]
  }
 ],
 "metadata": {
  "kernelspec": {
   "display_name": "Python 3",
   "language": "python",
   "name": "python3"
  },
  "language_info": {
   "codemirror_mode": {
    "name": "ipython",
    "version": 3
   },
   "file_extension": ".py",
   "mimetype": "text/x-python",
   "name": "python",
   "nbconvert_exporter": "python",
   "pygments_lexer": "ipython3",
   "version": "3.6.3"
  }
 },
 "nbformat": 4,
 "nbformat_minor": 2
}
