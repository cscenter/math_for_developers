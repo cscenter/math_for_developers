{
 "cells": [
  {
   "cell_type": "markdown",
   "metadata": {
    "slideshow": {
     "slide_type": "slide"
    }
   },
   "source": [
    "# Computer science center\n",
    "## Математика для разработчиков\n",
    "Семинар 2. Математический анализ"
   ]
  },
  {
   "cell_type": "markdown",
   "metadata": {
    "slideshow": {
     "slide_type": "slide"
    }
   },
   "source": [
    "## Предел последовательности"
   ]
  },
  {
   "cell_type": "code",
   "execution_count": 1,
   "metadata": {
    "slideshow": {
     "slide_type": "fragment"
    }
   },
   "outputs": [],
   "source": [
    "def odds():\n",
    "    i = 1\n",
    "    while True:\n",
    "        yield i\n",
    "        i += 2\n",
    "gen_odd = odds()"
   ]
  },
  {
   "cell_type": "code",
   "execution_count": 2,
   "metadata": {
    "slideshow": {
     "slide_type": "fragment"
    }
   },
   "outputs": [
    {
     "data": {
      "text/plain": [
       "[1, 3, 5, 7, 9, 11, 13, 15, 17, 19]"
      ]
     },
     "execution_count": 2,
     "metadata": {},
     "output_type": "execute_result"
    }
   ],
   "source": [
    "[next(gen_odd) for i in range(10)]"
   ]
  },
  {
   "cell_type": "code",
   "execution_count": 3,
   "metadata": {
    "slideshow": {
     "slide_type": "subslide"
    }
   },
   "outputs": [],
   "source": [
    "def sqrt2():\n",
    "    a = 1\n",
    "    while True:\n",
    "        a = 0.5 * (a + 2 / a)\n",
    "        yield a\n",
    "gen_sqrt2 = sqrt2()"
   ]
  },
  {
   "cell_type": "code",
   "execution_count": 4,
   "metadata": {
    "slideshow": {
     "slide_type": "fragment"
    }
   },
   "outputs": [
    {
     "name": "stdout",
     "output_type": "stream",
     "text": [
      "1.5\n",
      "1.4166666666666665\n",
      "1.4142156862745097\n",
      "1.4142135623746899\n",
      "1.414213562373095\n"
     ]
    }
   ],
   "source": [
    "for i in range(5):\n",
    "    print(next(gen_sqrt2))"
   ]
  },
  {
   "cell_type": "code",
   "execution_count": 5,
   "metadata": {
    "slideshow": {
     "slide_type": "fragment"
    }
   },
   "outputs": [
    {
     "name": "stdout",
     "output_type": "stream",
     "text": [
      "eps =  2.220446049250313e-16\n"
     ]
    }
   ],
   "source": [
    "print(\"eps = \", 2**0.5 - next(gen_sqrt2))"
   ]
  },
  {
   "cell_type": "code",
   "execution_count": 6,
   "metadata": {
    "slideshow": {
     "slide_type": "subslide"
    }
   },
   "outputs": [],
   "source": [
    "def some_seq():\n",
    "    n = 1\n",
    "    while True:\n",
    "        yield n**3/(n**2 + 5) - 2*n**2/(2*n - 1)\n",
    "        n += 1\n",
    "gen_seq = some_seq()"
   ]
  },
  {
   "cell_type": "code",
   "execution_count": 7,
   "metadata": {
    "slideshow": {
     "slide_type": "fragment"
    }
   },
   "outputs": [],
   "source": [
    "for i in range(10000):\n",
    "    tmp = next(gen_seq)"
   ]
  },
  {
   "cell_type": "code",
   "execution_count": 8,
   "metadata": {
    "slideshow": {
     "slide_type": "fragment"
    }
   },
   "outputs": [
    {
     "data": {
      "text/plain": [
       "[-0.500524948729435,\n",
       " -0.5005248962461337,\n",
       " -0.5005248437719274,\n",
       " -0.500524791308635,\n",
       " -0.5005247388544376]"
      ]
     },
     "execution_count": 8,
     "metadata": {},
     "output_type": "execute_result"
    }
   ],
   "source": [
    "[next(gen_seq) for i in range(5)]"
   ]
  },
  {
   "cell_type": "markdown",
   "metadata": {
    "slideshow": {
     "slide_type": "slide"
    }
   },
   "source": [
    "## Число e"
   ]
  },
  {
   "cell_type": "code",
   "execution_count": 9,
   "metadata": {
    "slideshow": {
     "slide_type": "fragment"
    }
   },
   "outputs": [],
   "source": [
    "def e():\n",
    "    n = 1\n",
    "    while True:\n",
    "        yield (1 + 1/n)**n\n",
    "        n += 1\n",
    "gen_e = e()"
   ]
  },
  {
   "cell_type": "code",
   "execution_count": 10,
   "metadata": {
    "slideshow": {
     "slide_type": "fragment"
    }
   },
   "outputs": [],
   "source": [
    "for i in range(10**7):\n",
    "    tmp = next(gen_e)"
   ]
  },
  {
   "cell_type": "code",
   "execution_count": 11,
   "metadata": {
    "slideshow": {
     "slide_type": "fragment"
    }
   },
   "outputs": [
    {
     "data": {
      "text/plain": [
       "[2.718281694349334,\n",
       " 2.718281694566533,\n",
       " 2.718281694783677,\n",
       " 2.718281695000767,\n",
       " 2.718281695217802]"
      ]
     },
     "execution_count": 11,
     "metadata": {},
     "output_type": "execute_result"
    }
   ],
   "source": [
    "[next(gen_e) for i in range(5)]"
   ]
  },
  {
   "cell_type": "code",
   "execution_count": 12,
   "metadata": {
    "slideshow": {
     "slide_type": "subslide"
    }
   },
   "outputs": [],
   "source": [
    "def e_faster():\n",
    "    s, n, fact = 1, 0, 1\n",
    "    while True:\n",
    "        yield s\n",
    "        n += 1\n",
    "        fact *= n\n",
    "        s += 1 / fact\n",
    "gen_e_faster = e_faster()"
   ]
  },
  {
   "cell_type": "code",
   "execution_count": 13,
   "metadata": {
    "slideshow": {
     "slide_type": "fragment"
    }
   },
   "outputs": [],
   "source": [
    "for i in range(10):\n",
    "    tmp = next(gen_e_faster)"
   ]
  },
  {
   "cell_type": "code",
   "execution_count": 14,
   "metadata": {
    "slideshow": {
     "slide_type": "fragment"
    }
   },
   "outputs": [
    {
     "data": {
      "text/plain": [
       "[2.7182818011463845,\n",
       " 2.718281826198493,\n",
       " 2.7182818282861687,\n",
       " 2.7182818284467594,\n",
       " 2.71828182845823]"
      ]
     },
     "execution_count": 14,
     "metadata": {},
     "output_type": "execute_result"
    }
   ],
   "source": [
    "[next(gen_e_faster) for i in range(5)]"
   ]
  },
  {
   "cell_type": "markdown",
   "metadata": {
    "slideshow": {
     "slide_type": "slide"
    }
   },
   "source": [
    "## Графики"
   ]
  },
  {
   "cell_type": "code",
   "execution_count": 1,
   "metadata": {
    "slideshow": {
     "slide_type": "fragment"
    }
   },
   "outputs": [],
   "source": [
    "from matplotlib import pyplot as plt\n",
    "%matplotlib inline\n",
    "\n",
    "import numpy as np\n",
    "\n",
    "xs = np.linspace(-5, 5, 100)\n",
    "ys = [x*x*x - 10 for x in xs]\n",
    "\n",
    "def map_abs(xs):\n",
    "    return list(map(abs, xs)) \n"
   ]
  },
  {
   "cell_type": "code",
   "execution_count": 2,
   "metadata": {
    "slideshow": {
     "slide_type": "subslide"
    }
   },
   "outputs": [
    {
     "data": {
      "text/plain": [
       "<matplotlib.axes._subplots.AxesSubplot at 0x2aab2f4f4518>"
      ]
     },
     "execution_count": 2,
     "metadata": {},
     "output_type": "execute_result"
    },
    {
     "data": {
      "text/plain": [
       "[<matplotlib.lines.Line2D at 0x2aab2f4f40f0>]"
      ]
     },
     "execution_count": 2,
     "metadata": {},
     "output_type": "execute_result"
    },
    {
     "data": {
      "text/plain": [
       "<matplotlib.axes._subplots.AxesSubplot at 0x2aaabe109cc0>"
      ]
     },
     "execution_count": 2,
     "metadata": {},
     "output_type": "execute_result"
    },
    {
     "data": {
      "text/plain": [
       "[<matplotlib.lines.Line2D at 0x2aab31798d68>]"
      ]
     },
     "execution_count": 2,
     "metadata": {},
     "output_type": "execute_result"
    },
    {
     "data": {
      "text/plain": [
       "<matplotlib.axes._subplots.AxesSubplot at 0x2aab31798ac8>"
      ]
     },
     "execution_count": 2,
     "metadata": {},
     "output_type": "execute_result"
    },
    {
     "data": {
      "text/plain": [
       "[<matplotlib.lines.Line2D at 0x2aab317de4e0>]"
      ]
     },
     "execution_count": 2,
     "metadata": {},
     "output_type": "execute_result"
    },
    {
     "data": {
      "text/plain": [
       "<matplotlib.axes._subplots.AxesSubplot at 0x2aab317de358>"
      ]
     },
     "execution_count": 2,
     "metadata": {},
     "output_type": "execute_result"
    },
    {
     "data": {
      "text/plain": [
       "[<matplotlib.lines.Line2D at 0x2aab31806da0>]"
      ]
     },
     "execution_count": 2,
     "metadata": {},
     "output_type": "execute_result"
    },
    {
     "data": {
      "image/png": "[encoded data removed]",
      "text/plain": [
       "<Figure size 432x288 with 4 Axes>"
      ]
     },
     "metadata": {
      "needs_background": "light"
     },
     "output_type": "display_data"
    }
   ],
   "source": [
    "# x^3-10\n",
    "plt.subplot (2, 2, 1)\n",
    "plt.plot(xs, ys)\n",
    "\n",
    "# |x|^3-10\n",
    "plt.subplot (2, 2, 2)\n",
    "plt.plot(xs, [abs(x*x*x) - 10 for x in xs])\n",
    "\n",
    "# |x^3-10|\n",
    "plt.subplot (2, 2, 3)\n",
    "plt.plot(xs, map_abs(ys))\n",
    "\n",
    "# ||x|^3-10|\n",
    "plt.subplot (2, 2, 4)\n",
    "plt.plot(xs, map_abs([abs(x*x*x) - 10 for x in xs]))"
   ]
  },
  {
   "cell_type": "code",
   "execution_count": 3,
   "metadata": {},
   "outputs": [],
   "source": [
    "plt.show()"
   ]
  },
  {
   "cell_type": "markdown",
   "metadata": {
    "slideshow": {
     "slide_type": "slide"
    }
   },
   "source": [
    "## Производная"
   ]
  },
  {
   "cell_type": "markdown",
   "metadata": {
    "slideshow": {
     "slide_type": "fragment"
    }
   },
   "source": [
    "Определим _приближенную_ производную функции $f(x)$ как\n",
    "$$\n",
    "g(x, \\delta) = \\frac{f(x + \\delta) - f(x)}{\\delta}\n",
    "$$\n",
    "\n",
    "Производная функции $𝑒^𝑥$ при $x=0$ равна 1. \n",
    "\n",
    "**Задача 2.1.** Вычислите приближённую производную по формуле выше для $\\delta = 10^{−2𝑛}$ и $𝑛 = 1, \\dots , 7$. Результаты должны сначала улучшаться, потом ухудшиться. Объясните, почему так происходит."
   ]
  },
  {
   "cell_type": "code",
   "execution_count": 16,
   "metadata": {
    "slideshow": {
     "slide_type": "subslide"
    }
   },
   "outputs": [],
   "source": [
    "def g(f, x, dx):\n",
    "    return (f(x + dx) - f(x)) / dx"
   ]
  },
  {
   "cell_type": "code",
   "execution_count": 17,
   "metadata": {
    "slideshow": {
     "slide_type": "fragment"
    }
   },
   "outputs": [
    {
     "name": "stdout",
     "output_type": "stream",
     "text": [
      "n = 0,  g = 1.718281828459045\n",
      "n = 1,  g = 1.005016708416795\n",
      "n = 2,  g = 1.000050001667141\n",
      "n = 3,  g = 1.0000004999621837\n",
      "n = 4,  g = 0.999999993922529\n",
      "n = 5,  g = 1.000000082740371\n",
      "n = 6,  g = 1.000088900582341\n",
      "n = 7,  g = 0.9992007221626409\n",
      "n = 8,  g = 0.0\n"
     ]
    }
   ],
   "source": [
    "import math\n",
    "\n",
    "for n in range(9):\n",
    "    print(f\"n = {n}, \", f\"g = {g(math.exp, 0, 10**(-2*n))}\")"
   ]
  },
  {
   "cell_type": "markdown",
   "metadata": {
    "slideshow": {
     "slide_type": "slide"
    }
   },
   "source": [
    "## Интеграл"
   ]
  },
  {
   "cell_type": "code",
   "execution_count": 18,
   "metadata": {
    "slideshow": {
     "slide_type": "fragment"
    }
   },
   "outputs": [
    {
     "name": "stdout",
     "output_type": "stream",
     "text": [
      "The result is (6.500000000000002, 7.216449660063519e-15).\n"
     ]
    }
   ],
   "source": [
    "from scipy.integrate import quad\n",
    "\n",
    "def integrand(x):\n",
    "    return abs(x - 3)\n",
    "\n",
    "result = quad(integrand, 1.0, 6.0)\n",
    "print(f\"The result is {result}.\")"
   ]
  },
  {
   "cell_type": "markdown",
   "metadata": {
    "slideshow": {
     "slide_type": "slide"
    }
   },
   "source": [
    "## Фрактал Мандельброта"
   ]
  },
  {
   "cell_type": "code",
   "execution_count": 19,
   "metadata": {
    "slideshow": {
     "slide_type": "fragment"
    }
   },
   "outputs": [],
   "source": [
    "def in_mandelbrot_set(c):\n",
    "    z = complex(0,0)\n",
    "    for i in range(100):\n",
    "        z = z*z + c\n",
    "        if abs(z) > 2:\n",
    "            return False\n",
    "    return True"
   ]
  },
  {
   "cell_type": "code",
   "execution_count": 20,
   "metadata": {
    "slideshow": {
     "slide_type": "fragment"
    }
   },
   "outputs": [
    {
     "data": {
      "text/plain": [
       "True"
      ]
     },
     "execution_count": 20,
     "metadata": {},
     "output_type": "execute_result"
    },
    {
     "data": {
      "text/plain": [
       "False"
      ]
     },
     "execution_count": 20,
     "metadata": {},
     "output_type": "execute_result"
    }
   ],
   "source": [
    "in_mandelbrot_set(complex(0,0))\n",
    "in_mandelbrot_set(complex(2,2))"
   ]
  },
  {
   "cell_type": "code",
   "execution_count": 21,
   "metadata": {
    "slideshow": {
     "slide_type": "subslide"
    }
   },
   "outputs": [],
   "source": [
    "def gen_mask(N):\n",
    "    x = np.linspace(-2, 2, N)\n",
    "    y = np.linspace(-2, 2, N)\n",
    "    mask = np.zeros((N, N))\n",
    "    for i in range(N):\n",
    "        for j in range(N):\n",
    "            mask[i, j] = int(in_mandelbrot_set(complex(x[i], y[j])))\n",
    "    return mask"
   ]
  },
  {
   "cell_type": "code",
   "execution_count": 22,
   "metadata": {
    "slideshow": {
     "slide_type": "fragment"
    }
   },
   "outputs": [
    {
     "data": {
      "text/plain": [
       "<matplotlib.image.AxesImage at 0x2aab38fcb438>"
      ]
     },
     "execution_count": 22,
     "metadata": {},
     "output_type": "execute_result"
    },
    {
     "data": {
      "image/png": "[encoded data removed]",
      "text/plain": [
       "<Figure size 432x288 with 1 Axes>"
      ]
     },
     "metadata": {
      "needs_background": "light"
     },
     "output_type": "display_data"
    }
   ],
   "source": [
    "plt.imshow(gen_mask(1000))"
   ]
  },
  {
   "cell_type": "markdown",
   "metadata": {
    "slideshow": {
     "slide_type": "subslide"
    }
   },
   "source": [
    "**Задача 2.2.**\n",
    "\n",
    "Напишите функцию iteration_number, возвращающую логарифм числа итераций, после которого модуль становится больше 2. Нарисуйте результат через imshow.\n",
    "\n",
    "Попробуйте задать попбольше точек и отобразить только часть всего изображения фрактала Мандельброта."
   ]
  },
  {
   "cell_type": "markdown",
   "metadata": {
    "slideshow": {
     "slide_type": "slide"
    }
   },
   "source": [
    "## Числа Бернулли"
   ]
  },
  {
   "cell_type": "code",
   "execution_count": 23,
   "metadata": {
    "slideshow": {
     "slide_type": "fragment"
    }
   },
   "outputs": [
    {
     "name": "stdout",
     "output_type": "stream",
     "text": [
      "B( 0) =    1/1\n",
      "B( 1) =    1/2\n",
      "B( 2) =    1/6\n",
      "B( 4) =   -1/30\n",
      "B( 6) =    1/42\n",
      "B( 8) =   -1/30\n",
      "B(10) =    5/66\n",
      "B(12) = -691/2730\n",
      "B(14) =    7/6\n"
     ]
    }
   ],
   "source": [
    "from fractions import Fraction as Fr\n",
    "\n",
    "def bernoulli():\n",
    "    A, m = [], 0\n",
    "    while True:\n",
    "        A.append(Fr(1, m+1))\n",
    "        for j in range(m, 0, -1):\n",
    "            A[j-1] = j*(A[j-1] - A[j])\n",
    "        yield A[0] # (which is Bm)\n",
    "        m += 1\n",
    " \n",
    "bn = [ix for ix in zip(range(16), bernoulli())]\n",
    "bn = [(i, b) for i, b in bn if b]\n",
    "width = max(len(str(b.numerator)) for i,b in bn)\n",
    "for i, b in bn:\n",
    "    print('B(%2i) = %*i/%i' % (i, width, b.numerator, b.denominator))"
   ]
  },
  {
   "cell_type": "markdown",
   "metadata": {
    "slideshow": {
     "slide_type": "subslide"
    }
   },
   "source": [
    "Сравните с формулой (8) [отсюда](http://www.fourmilab.ch/babbage/sketch.html).\n",
    "\n",
    "Спасибо за внимание, всё на сегодня."
   ]
  }
 ],
 "metadata": {
  "kernelspec": {
   "display_name": "Python 3",
   "language": "python",
   "name": "python3"
  },
  "language_info": {
   "codemirror_mode": {
    "name": "ipython",
    "version": 3
   },
   "file_extension": ".py",
   "mimetype": "text/x-python",
   "name": "python",
   "nbconvert_exporter": "python",
   "pygments_lexer": "ipython3",
   "version": "3.6.3"
  }
 },
 "nbformat": 4,
 "nbformat_minor": 2
}
